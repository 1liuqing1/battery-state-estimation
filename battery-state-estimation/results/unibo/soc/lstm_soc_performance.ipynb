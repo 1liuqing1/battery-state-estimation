{
 "cells": [
  {
   "cell_type": "markdown",
   "source": [
    "# Main notebook for battery state estimation"
   ],
   "metadata": {}
  },
  {
   "cell_type": "code",
   "execution_count": 1,
   "source": [
    "import numpy as np\n",
    "import pandas as pd\n",
    "import scipy.io\n",
    "import math\n",
    "import os\n",
    "import ntpath\n",
    "import sys\n",
    "import logging\n",
    "import time\n",
    "import sys\n",
    "\n",
    "from importlib import reload\n",
    "import plotly.graph_objects as go\n",
    "\n",
    "import tensorflow as tf\n",
    "from tensorflow import keras\n",
    "from tensorflow.keras import layers\n",
    "\n",
    "from keras.models import Sequential\n",
    "from keras.layers.core import Dense, Dropout, Activation\n",
    "from keras.optimizers import SGD, Adam\n",
    "from keras.utils import np_utils\n",
    "from keras.layers import LSTM, Embedding, RepeatVector, TimeDistributed, Masking\n",
    "from keras.callbacks import EarlyStopping, ModelCheckpoint, LambdaCallback\n",
    "\n",
    "\n",
    "IS_COLAB = False\n",
    "\n",
    "if IS_COLAB:\n",
    "    from google.colab import drive\n",
    "    drive.mount('/content/drive')\n",
    "    data_path = \"/content/drive/My Drive/battery-state-estimation/battery-state-estimation/\"\n",
    "else:\n",
    "    data_path = \"../\"\n",
    "\n",
    "sys.path.append(data_path)\n",
    "from data_processing.unibo_powertools_data import UniboPowertoolsData, CycleCols\n",
    "from data_processing.model_data_handler import ModelDataHandler"
   ],
   "outputs": [
    {
     "output_type": "stream",
     "name": "stderr",
     "text": [
      "Using TensorFlow backend.\n"
     ]
    }
   ],
   "metadata": {}
  },
  {
   "cell_type": "markdown",
   "source": [
    "### Config logging"
   ],
   "metadata": {}
  },
  {
   "cell_type": "code",
   "execution_count": 2,
   "source": [
    "reload(logging)\n",
    "logging.basicConfig(format='%(asctime)s [%(levelname)s]: %(message)s', level=logging.DEBUG, datefmt='%Y/%m/%d %H:%M:%S')"
   ],
   "outputs": [],
   "metadata": {}
  },
  {
   "cell_type": "markdown",
   "source": [
    "# Load Data"
   ],
   "metadata": {}
  },
  {
   "cell_type": "markdown",
   "source": [
    "### Initial the data object\n",
    "\n",
    "Load the cycle and capacity data to memory based on the specified chunk size"
   ],
   "metadata": {}
  },
  {
   "cell_type": "code",
   "execution_count": 3,
   "source": [
    "dataset = UniboPowertoolsData(\n",
    "    test_types=['S'],\n",
    "    chunk_size=1000000,\n",
    "    lines=[37, 40],\n",
    "    charge_line=37,\n",
    "    discharge_line=40,\n",
    "    base_path=data_path\n",
    ")"
   ],
   "outputs": [
    {
     "output_type": "stream",
     "name": "stderr",
     "text": [
      "2020/12/02 17:47:14 [DEBUG]: Start loading data with lines: [37, 40], types: ['S'] and chunksize: 1000000...\n",
      "2020/12/02 17:47:40 [DEBUG]: Finish loading data.\n",
      "2020/12/02 17:47:40 [INFO]: Loaded raw dataset A data with cycle row count: 6181604 and capacity row count: 16548\n",
      "2020/12/02 17:47:40 [DEBUG]: Start cleaning cycle raw data...\n",
      "2020/12/02 17:47:45 [DEBUG]: Finish cleaning cycle raw data.\n",
      "2020/12/02 17:47:45 [INFO]: Removed 5 rows of abnormal cycle raw data.\n",
      "2020/12/02 17:47:45 [DEBUG]: Start cleaning capacity raw data...\n",
      "2020/12/02 17:47:45 [DEBUG]: Finish cleaning capacity raw data.\n",
      "2020/12/02 17:47:45 [INFO]: Removed 1 rows of abnormal capacity raw data.\n",
      "2020/12/02 17:47:45 [DEBUG]: Start assigning charging raw data...\n",
      "2020/12/02 17:47:46 [DEBUG]: Finish assigning charging raw data.\n",
      "2020/12/02 17:47:46 [INFO]: [Charging] cycle raw count: 4773746, capacity raw count: 8278\n",
      "2020/12/02 17:47:46 [DEBUG]: Start assigning discharging raw data...\n",
      "2020/12/02 17:47:46 [DEBUG]: Finish assigning discharging raw data.\n",
      "2020/12/02 17:47:46 [INFO]: [Discharging] cycle raw count: 1407853, capacity raw count: 8269\n"
     ]
    }
   ],
   "metadata": {}
  },
  {
   "cell_type": "markdown",
   "source": [
    "### Determine the training and testing name\n",
    "\n",
    "Prepare the training and testing data for model data handler to load the model input and output data."
   ],
   "metadata": {}
  },
  {
   "cell_type": "code",
   "execution_count": 4,
   "source": [
    "train_data_test_names = [\n",
    "    '000-DM-3.0-4019-S', \n",
    "    '001-DM-3.0-4019-S', \n",
    "    '002-DM-3.0-4019-S', \n",
    "    '006-EE-2.85-0820-S', \n",
    "    '007-EE-2.85-0820-S', \n",
    "    '018-DP-2.00-1320-S', \n",
    "    '019-DP-2.00-1320-S',\n",
    "    '036-DP-2.00-1720-S', \n",
    "    '037-DP-2.00-1720-S', \n",
    "    '038-DP-2.00-2420-S', \n",
    "    '040-DM-4.00-2320-S',\n",
    "    '042-EE-2.85-0820-S', \n",
    "    '045-BE-2.75-2019-S'\n",
    "]\n",
    "\n",
    "test_data_test_names = [\n",
    "    '003-DM-3.0-4019-S',\n",
    "    '008-EE-2.85-0820-S',\n",
    "    '039-DP-2.00-2420-S', \n",
    "    '041-DM-4.00-2320-S',    \n",
    "]\n",
    "\n",
    "dataset.prepare_data(train_data_test_names, test_data_test_names)"
   ],
   "outputs": [
    {
     "output_type": "stream",
     "name": "stderr",
     "text": [
      "2020/12/02 17:47:46 [DEBUG]: Start preparing data for training: ['000-DM-3.0-4019-S', '001-DM-3.0-4019-S', '002-DM-3.0-4019-S', '006-EE-2.85-0820-S', '007-EE-2.85-0820-S', '018-DP-2.00-1320-S', '019-DP-2.00-1320-S', '036-DP-2.00-1720-S', '037-DP-2.00-1720-S', '038-DP-2.00-2420-S', '040-DM-4.00-2320-S', '042-EE-2.85-0820-S', '045-BE-2.75-2019-S'] and testing: ['003-DM-3.0-4019-S', '008-EE-2.85-0820-S', '039-DP-2.00-2420-S', '041-DM-4.00-2320-S']...\n",
      "2020/12/02 17:47:57 [DEBUG]: Finish getting training and testing charge data.\n",
      "2020/12/02 17:48:06 [DEBUG]: Finish getting training and testing discharge data.\n",
      "2020/12/02 17:48:06 [DEBUG]: Finish cleaning training and testing charge data.\n",
      "2020/12/02 17:48:06 [DEBUG]: Finish cleaning training and testing discharge data.\n",
      "2020/12/02 17:48:07 [DEBUG]: Finish adding training and testing discharge SOC parameters.\n",
      "2020/12/02 17:48:12 [DEBUG]: Finish adding training and testing discharge SOH parameters.\n",
      "2020/12/02 17:48:12 [DEBUG]: Finish preparing data.\n",
      "2020/12/02 17:48:12 [INFO]: Prepared training charge cycle data: (6536,), capacity data: (6536, 15)\n",
      "2020/12/02 17:48:12 [INFO]: Prepared testing charge cycle data: (1728,), capacity data: (1728, 15)\n",
      "2020/12/02 17:48:12 [INFO]: Prepared training discharge cycle data: (6536,), capacity data: (6536, 20)\n",
      "2020/12/02 17:48:12 [INFO]: Prepared testing discharge cycle data: (1728,), capacity data: (1728, 20)\n"
     ]
    }
   ],
   "metadata": {}
  },
  {
   "cell_type": "markdown",
   "source": [
    "### Initial the model data handler\n",
    "\n",
    "Model data handler will be used to get the model input and output data for further training purpose."
   ],
   "metadata": {}
  },
  {
   "cell_type": "code",
   "execution_count": 5,
   "source": [
    "mdh = ModelDataHandler(dataset, [\n",
    "    CycleCols.VOLTAGE,\n",
    "    CycleCols.CURRENT,\n",
    "    CycleCols.TEMPERATURE\n",
    "])"
   ],
   "outputs": [],
   "metadata": {}
  },
  {
   "cell_type": "markdown",
   "source": [
    "# Data loading"
   ],
   "metadata": {}
  },
  {
   "cell_type": "code",
   "execution_count": 6,
   "source": [
    "train_x, train_y, test_x, test_y = mdh.get_discharge_whole_cycle(soh = False, output_capacity = True)"
   ],
   "outputs": [
    {
     "output_type": "stream",
     "name": "stderr",
     "text": [
      "2020/12/02 17:48:18 [INFO]: Train x: (6536, 287, 3), train y: (6536, 287, 2) | Test x: (1728, 287, 3), test y: (1728, 287, 2)\n"
     ]
    }
   ],
   "metadata": {}
  },
  {
   "cell_type": "code",
   "execution_count": 7,
   "source": [
    "train_y = mdh.keep_only_capacity(train_y, is_multiple_output = True)\n",
    "test_y = mdh.keep_only_capacity(test_y, is_multiple_output = True)"
   ],
   "outputs": [
    {
     "output_type": "stream",
     "name": "stderr",
     "text": [
      "2020/12/02 17:48:18 [INFO]: New y: (6536, 287)\n",
      "2020/12/02 17:48:18 [INFO]: New y: (1728, 287)\n"
     ]
    }
   ],
   "metadata": {}
  },
  {
   "cell_type": "code",
   "execution_count": 8,
   "source": [
    "experiment_name = '2020-12-02-12-28-17_lstm_soc'\n",
    "\n",
    "history = pd.read_csv(data_path + 'results/trained_model/%s_history.csv' % experiment_name)\n",
    "model = keras.models.load_model(data_path + 'results/trained_model/%s.h5' % experiment_name)\n",
    "model.summary()"
   ],
   "outputs": [
    {
     "output_type": "stream",
     "name": "stdout",
     "text": [
      "Model: \"sequential\"\n",
      "_________________________________________________________________\n",
      "Layer (type)                 Output Shape              Param #   \n",
      "=================================================================\n",
      "lstm (LSTM)                  (None, 287, 256)          266240    \n",
      "_________________________________________________________________\n",
      "lstm_1 (LSTM)                (None, 287, 256)          525312    \n",
      "_________________________________________________________________\n",
      "lstm_2 (LSTM)                (None, 287, 128)          197120    \n",
      "_________________________________________________________________\n",
      "dense (Dense)                (None, 287, 64)           8256      \n",
      "_________________________________________________________________\n",
      "dense_1 (Dense)              (None, 287, 1)            65        \n",
      "=================================================================\n",
      "Total params: 996,993\n",
      "Trainable params: 996,993\n",
      "Non-trainable params: 0\n",
      "_________________________________________________________________\n"
     ]
    }
   ],
   "metadata": {}
  },
  {
   "cell_type": "markdown",
   "source": [
    "# Prediction time"
   ],
   "metadata": {}
  },
  {
   "cell_type": "code",
   "execution_count": 12,
   "source": [
    "prediction_time = []\n",
    "for x in test_x:\n",
    "  start = time.time()\n",
    "  model.predict(x.reshape(1, x.shape[0], x.shape[1]))\n",
    "  end = time.time()\n",
    "  prediction_time.append(end - start)\n",
    "\n",
    "prediction_time = np.array(prediction_time)\n",
    "print('(Prediction) Average time: {} s, std: {} s, max: {} s, min: {} s'.format(\n",
    "    prediction_time.mean(), prediction_time.std(), prediction_time.max(), prediction_time.min()))"
   ],
   "outputs": [
    {
     "output_type": "stream",
     "name": "stdout",
     "text": [
      "(Prediction) Average time: 0.07088805155621634 s, std: 0.009244483929890438 s, max: 0.27985405921936035 s, min: 0.06615209579467773 s\n"
     ]
    }
   ],
   "metadata": {}
  },
  {
   "cell_type": "code",
   "execution_count": null,
   "source": [],
   "outputs": [],
   "metadata": {}
  }
 ],
 "metadata": {
  "kernelspec": {
   "name": "python3",
   "display_name": "Python 3.8.6 64-bit",
   "metadata": {
    "interpreter": {
     "hash": "aee8b7b246df8f9039afb4144a1f6fd8d2ca17a180786b69acc140d282b71a49"
    }
   }
  },
  "language_info": {
   "codemirror_mode": {
    "name": "ipython",
    "version": 3
   },
   "file_extension": ".py",
   "mimetype": "text/x-python",
   "name": "python",
   "nbconvert_exporter": "python",
   "pygments_lexer": "ipython3",
   "version": "3.8.6-final"
  }
 },
 "nbformat": 4,
 "nbformat_minor": 4
}