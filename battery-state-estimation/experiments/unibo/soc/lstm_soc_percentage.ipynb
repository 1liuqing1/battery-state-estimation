{
  "nbformat": 4,
  "nbformat_minor": 2,
  "metadata": {
    "kernelspec": {
      "display_name": "Python 3",
      "language": "python",
      "name": "python3"
    },
    "language_info": {
      "codemirror_mode": {
        "name": "ipython",
        "version": 3
      },
      "file_extension": ".py",
      "mimetype": "text/x-python",
      "name": "python",
      "nbconvert_exporter": "python",
      "pygments_lexer": "ipython3",
      "version": "3.6.9"
    },
    "colab": {
      "name": "lstm_soc_percentage.ipynb",
      "provenance": [],
      "collapsed_sections": []
    },
    "accelerator": "GPU"
  },
  "cells": [
    {
      "cell_type": "markdown",
      "source": [
        "# Main notebook for battery state estimation"
      ],
      "metadata": {
        "id": "jw9FMur02UtZ"
      }
    },
    {
      "cell_type": "code",
      "execution_count": null,
      "source": [
        "import numpy as np\n",
        "import pandas as pd\n",
        "import scipy.io\n",
        "import math\n",
        "import os\n",
        "import ntpath\n",
        "import sys\n",
        "import logging\n",
        "import time\n",
        "import sys\n",
        "\n",
        "from importlib import reload\n",
        "import plotly.graph_objects as go\n",
        "\n",
        "import tensorflow as tf\n",
        "from tensorflow import keras\n",
        "from tensorflow.keras import layers\n",
        "\n",
        "from keras.models import Sequential\n",
        "from keras.layers.core import Dense, Dropout, Activation\n",
        "from keras.optimizers import SGD, Adam\n",
        "from keras.utils import np_utils\n",
        "from keras.layers import LSTM, Embedding, RepeatVector, TimeDistributed, Masking\n",
        "from keras.callbacks import EarlyStopping, ModelCheckpoint, LambdaCallback\n",
        "\n",
        "\n",
        "IS_COLAB = True\n",
        "\n",
        "if IS_COLAB:\n",
        "    from google.colab import drive\n",
        "    drive.mount('/content/drive')\n",
        "    data_path = \"/content/drive/My Drive/battery-state-estimation/battery-state-estimation/\"\n",
        "else:\n",
        "    data_path = \"../\"\n",
        "\n",
        "sys.path.append(data_path)\n",
        "from data_processing.unibo_powertools_data import UniboPowertoolsData, CycleCols\n",
        "from data_processing.model_data_handler import ModelDataHandler"
      ],
      "outputs": [],
      "metadata": {
        "id": "XKxZ90kO2Uta",
        "colab": {
          "base_uri": "https://localhost:8080/"
        },
        "outputId": "4b8ac058-4a2d-4a87-b44b-63986dd888d7"
      }
    },
    {
      "cell_type": "markdown",
      "source": [
        "### Config logging"
      ],
      "metadata": {
        "id": "MfVCRISs2Utc"
      }
    },
    {
      "cell_type": "code",
      "execution_count": null,
      "source": [
        "reload(logging)\n",
        "logging.basicConfig(format='%(asctime)s [%(levelname)s]: %(message)s', level=logging.DEBUG, datefmt='%Y/%m/%d %H:%M:%S')"
      ],
      "outputs": [],
      "metadata": {
        "id": "K2IvySBk2Utd"
      }
    },
    {
      "cell_type": "markdown",
      "source": [
        "# Load Data"
      ],
      "metadata": {
        "id": "KsbkwTX22Utf"
      }
    },
    {
      "cell_type": "markdown",
      "source": [
        "### Initial the data object\n",
        "\n",
        "Load the cycle and capacity data to memory based on the specified chunk size"
      ],
      "metadata": {
        "id": "wGH78-0Z2Utg"
      }
    },
    {
      "cell_type": "code",
      "execution_count": null,
      "source": [
        "dataset = UniboPowertoolsData(\n",
        "    test_types=['S'],\n",
        "    chunk_size=1000000,\n",
        "    lines=[37, 40],\n",
        "    charge_line=37,\n",
        "    discharge_line=40,\n",
        "    base_path=data_path\n",
        ")"
      ],
      "outputs": [],
      "metadata": {
        "id": "DrHYRy-a2Utg",
        "colab": {
          "base_uri": "https://localhost:8080/"
        },
        "outputId": "857ae721-7b01-4190-9963-113300d31149"
      }
    },
    {
      "cell_type": "markdown",
      "source": [
        "### Determine the training and testing name\n",
        "\n",
        "Prepare the training and testing data for model data handler to load the model input and output data."
      ],
      "metadata": {
        "id": "XlLw41D72Utj"
      }
    },
    {
      "cell_type": "code",
      "execution_count": null,
      "source": [
        "train_data_test_names = [\n",
        "    '000-DM-3.0-4019-S', \n",
        "    '001-DM-3.0-4019-S', \n",
        "    '002-DM-3.0-4019-S', \n",
        "    '006-EE-2.85-0820-S', \n",
        "    '007-EE-2.85-0820-S', \n",
        "    '018-DP-2.00-1320-S', \n",
        "    '019-DP-2.00-1320-S',\n",
        "    '036-DP-2.00-1720-S', \n",
        "    '037-DP-2.00-1720-S', \n",
        "    '038-DP-2.00-2420-S', \n",
        "    '040-DM-4.00-2320-S',\n",
        "    '042-EE-2.85-0820-S', \n",
        "    '045-BE-2.75-2019-S'\n",
        "]\n",
        "\n",
        "test_data_test_names = [\n",
        "    '003-DM-3.0-4019-S',\n",
        "    '008-EE-2.85-0820-S',\n",
        "    '039-DP-2.00-2420-S', \n",
        "    '041-DM-4.00-2320-S',    \n",
        "]\n",
        "\n",
        "dataset.prepare_data(train_data_test_names, test_data_test_names)"
      ],
      "outputs": [],
      "metadata": {
        "id": "NSFp-2Rl2Utj",
        "colab": {
          "base_uri": "https://localhost:8080/"
        },
        "outputId": "856d898b-0bab-49fb-85cf-6d8864a55a0f"
      }
    },
    {
      "cell_type": "markdown",
      "source": [
        "### Initial the model data handler\n",
        "\n",
        "Model data handler will be used to get the model input and output data for further training purpose."
      ],
      "metadata": {
        "id": "jcLJjuuB2Utm"
      }
    },
    {
      "cell_type": "code",
      "execution_count": null,
      "source": [
        "mdh = ModelDataHandler(dataset, [\n",
        "    CycleCols.VOLTAGE,\n",
        "    CycleCols.CURRENT,\n",
        "    CycleCols.TEMPERATURE\n",
        "])"
      ],
      "outputs": [],
      "metadata": {
        "id": "k-yTrXQ12Utm"
      }
    },
    {
      "cell_type": "markdown",
      "source": [
        "# Model training"
      ],
      "metadata": {
        "id": "7iYU-n0K2Utq"
      }
    },
    {
      "cell_type": "code",
      "execution_count": null,
      "source": [
        "train_x, train_y, test_x, test_y = mdh.get_discharge_whole_cycle(soh = False, output_capacity = False)\n"
      ],
      "outputs": [],
      "metadata": {
        "id": "n6890VzH2Utq",
        "colab": {
          "base_uri": "https://localhost:8080/"
        },
        "outputId": "74cbbe9c-fe83-43f9-c5a5-ee4986d3a7ec"
      }
    },
    {
      "cell_type": "code",
      "execution_count": null,
      "source": [
        "train_y = mdh.keep_only_capacity(train_y, is_multiple_output = True)\n",
        "test_y = mdh.keep_only_capacity(test_y, is_multiple_output = True)"
      ],
      "outputs": [],
      "metadata": {
        "id": "O8_QHu_mN8y3",
        "colab": {
          "base_uri": "https://localhost:8080/"
        },
        "outputId": "e0087bd3-1448-4920-bdb4-16cbca04f8b7"
      }
    },
    {
      "cell_type": "code",
      "execution_count": null,
      "source": [
        "EXPERIMENT = \"lstm_soc_percentage\"\n",
        "\n",
        "experiment_name = time.strftime(\"%Y-%m-%d-%H-%M-%S\") + '_' + EXPERIMENT\n",
        "print(experiment_name)\n",
        "\n",
        "# Model definition\n",
        "\n",
        "opt = tf.keras.optimizers.Adam(lr=0.00003)\n",
        "\n",
        "model = Sequential()\n",
        "model.add(LSTM(256, activation='selu',\n",
        "                return_sequences=True,\n",
        "                input_shape=(train_x.shape[1], train_x.shape[2])))\n",
        "model.add(LSTM(256, activation='selu', return_sequences=True))\n",
        "model.add(LSTM(128, activation='selu', return_sequences=True))\n",
        "model.add(Dense(64, activation='selu'))\n",
        "model.add(Dense(1, activation='linear'))\n",
        "model.summary()\n",
        "\n",
        "model.compile(optimizer=opt, loss='huber', metrics=['mse', 'mae', 'mape', tf.keras.metrics.RootMeanSquaredError(name='rmse')])\n",
        "\n",
        "es = EarlyStopping(monitor='val_loss', patience=50)\n",
        "mc = ModelCheckpoint(data_path + 'results/trained_model/%s_best.h5' % experiment_name, \n",
        "                             save_best_only=True, \n",
        "                             monitor='val_loss')"
      ],
      "outputs": [],
      "metadata": {
        "id": "LSx96n4w2Uts",
        "colab": {
          "base_uri": "https://localhost:8080/"
        },
        "outputId": "67060822-e91c-4299-acff-1d183c287d1c"
      }
    },
    {
      "cell_type": "code",
      "execution_count": null,
      "source": [
        "history = model.fit(train_x, train_y, \n",
        "                                epochs=30, \n",
        "                                batch_size=32, \n",
        "                                verbose=1,\n",
        "                                validation_split=0.2,\n",
        "                                callbacks = [es, mc]\n",
        "                               )"
      ],
      "outputs": [],
      "metadata": {
        "id": "AIEcv6Ey2Utu",
        "colab": {
          "base_uri": "https://localhost:8080/"
        },
        "outputId": "68b17143-7cab-4ba0-ea34-e95d7403fc92"
      }
    },
    {
      "cell_type": "code",
      "execution_count": null,
      "source": [
        "model.save(data_path + 'results/trained_model/%s.h5' % experiment_name)\n",
        "\n",
        "hist_df = pd.DataFrame(history.history)\n",
        "hist_csv_file = data_path + 'results/trained_model/%s_history.csv' % experiment_name\n",
        "with open(hist_csv_file, mode='w') as f:\n",
        "    hist_df.to_csv(f)"
      ],
      "outputs": [],
      "metadata": {
        "id": "oNHlqcvP2Utx"
      }
    },
    {
      "cell_type": "markdown",
      "source": [
        "### Testing"
      ],
      "metadata": {
        "id": "LH5RANQIEQVx"
      }
    },
    {
      "cell_type": "code",
      "execution_count": null,
      "source": [
        "results = model.evaluate(test_x, test_y)\n",
        "print(results)"
      ],
      "outputs": [],
      "metadata": {
        "colab": {
          "base_uri": "https://localhost:8080/"
        },
        "id": "ggNKW-VqENFN",
        "outputId": "1c98ec83-5c28-4557-d4c3-2a968c755a11"
      }
    },
    {
      "cell_type": "markdown",
      "source": [
        "# Data Visualization"
      ],
      "metadata": {
        "id": "uiqyD8Bn2Utz"
      }
    },
    {
      "cell_type": "code",
      "execution_count": null,
      "source": [
        "fig = go.Figure()\n",
        "fig.add_trace(go.Scatter(y=history.history['loss'],\n",
        "                    mode='lines', name='train'))\n",
        "fig.add_trace(go.Scatter(y=history.history['val_loss'],\n",
        "                    mode='lines', name='validation'))\n",
        "fig.update_layout(title='Loss trend',\n",
        "                  xaxis_title='epoch',\n",
        "                  yaxis_title='loss',\n",
        "                  width=1400,\n",
        "                  height=600)\n",
        "fig.show()"
      ],
      "outputs": [],
      "metadata": {
        "id": "jH9RrBRN2Utz",
        "colab": {
          "base_uri": "https://localhost:8080/",
          "height": 637
        },
        "outputId": "cc642260-a663-4368-c05e-3a7b16c373bc"
      }
    },
    {
      "cell_type": "code",
      "execution_count": null,
      "source": [
        "train_predictions = model.predict(train_x)"
      ],
      "outputs": [],
      "metadata": {
        "id": "gtLOteXd-d6n"
      }
    },
    {
      "cell_type": "code",
      "execution_count": null,
      "source": [
        "cycle_num = 0\n",
        "steps_num = 8000\n",
        "step_index = np.arange(cycle_num*steps_num, (cycle_num+1)*steps_num)\n",
        "\n",
        "fig = go.Figure()\n",
        "fig.add_trace(go.Scatter(x=step_index, y=train_predictions.flatten()[cycle_num*steps_num:(cycle_num+1)*steps_num],\n",
        "                    mode='lines', name='SoC predicted'))\n",
        "fig.add_trace(go.Scatter(x=step_index, y=train_y.flatten()[cycle_num*steps_num:(cycle_num+1)*steps_num],\n",
        "                    mode='lines', name='SoC actual'))\n",
        "fig.update_layout(title='Results on training',\n",
        "                  xaxis_title='Cycle',\n",
        "                  yaxis_title='SoC percentage',\n",
        "                  width=1400,\n",
        "                  height=600)\n",
        "fig.show()"
      ],
      "outputs": [],
      "metadata": {
        "id": "ZsYMPQ0i2Ut1",
        "colab": {
          "base_uri": "https://localhost:8080/",
          "height": 637
        },
        "outputId": "6eb3295c-3fc3-4d06-8946-5510da3f5e93"
      }
    },
    {
      "cell_type": "code",
      "execution_count": null,
      "source": [
        "test_predictions = model.predict(test_x)"
      ],
      "outputs": [],
      "metadata": {
        "id": "m0olyqr4-8BG"
      }
    },
    {
      "cell_type": "code",
      "execution_count": null,
      "source": [
        "cycle_num = 0\n",
        "steps_num = 1000\n",
        "step_index = np.arange(cycle_num*steps_num, (cycle_num+1)*steps_num)\n",
        "\n",
        "fig = go.Figure()\n",
        "fig.add_trace(go.Scatter(x=step_index, y=test_predictions.flatten()[cycle_num*steps_num:(cycle_num+1)*steps_num],\n",
        "                    mode='lines', name='SoC predicted'))\n",
        "fig.add_trace(go.Scatter(x=step_index, y=test_y.flatten()[cycle_num*steps_num:(cycle_num+1)*steps_num],\n",
        "                    mode='lines', name='SoC actual'))\n",
        "fig.update_layout(title='Results on testing',\n",
        "                  xaxis_title='Cycle',\n",
        "                  yaxis_title='SoC percentage',\n",
        "                  width=1400,\n",
        "                  height=600)\n",
        "fig.show()"
      ],
      "outputs": [],
      "metadata": {
        "id": "9U1MbGnq2Ut4",
        "colab": {
          "base_uri": "https://localhost:8080/",
          "height": 637
        },
        "outputId": "91548d86-e08b-4e04-8c63-12138a2aa5e9"
      }
    }
  ]
}