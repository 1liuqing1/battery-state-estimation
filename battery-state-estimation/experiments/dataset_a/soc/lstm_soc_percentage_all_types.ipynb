{
 "cells": [
  {
   "cell_type": "markdown",
   "metadata": {
    "id": "jw9FMur02UtZ"
   },
   "source": [
    "# Main notebook for battery state estimation"
   ]
  },
  {
   "cell_type": "code",
   "execution_count": null,
   "metadata": {
    "colab": {
     "base_uri": "https://localhost:8080/"
    },
    "id": "XKxZ90kO2Uta",
    "outputId": "4b8ac058-4a2d-4a87-b44b-63986dd888d7"
   },
   "outputs": [],
   "source": [
    "import numpy as np\n",
    "import pandas as pd\n",
    "import scipy.io\n",
    "import math\n",
    "import os\n",
    "import ntpath\n",
    "import sys\n",
    "import logging\n",
    "import time\n",
    "import sys\n",
    "\n",
    "from importlib import reload\n",
    "import plotly.graph_objects as go\n",
    "\n",
    "import tensorflow as tf\n",
    "from tensorflow import keras\n",
    "from tensorflow.keras import layers\n",
    "\n",
    "from keras.models import Sequential\n",
    "from keras.layers.core import Dense, Dropout, Activation\n",
    "from keras.optimizers import SGD, Adam\n",
    "from keras.utils import np_utils\n",
    "from keras.layers import LSTM, Embedding, RepeatVector, TimeDistributed, Masking\n",
    "from keras.callbacks import EarlyStopping, ModelCheckpoint, LambdaCallback\n",
    "\n",
    "\n",
    "IS_COLAB = False\n",
    "\n",
    "if IS_COLAB:\n",
    "    from google.colab import drive\n",
    "    drive.mount('/content/drive')\n",
    "    data_path = \"/content/drive/My Drive/battery-state-estimation/battery-state-estimation/\"\n",
    "else:\n",
    "    data_path = \"../../../\"\n",
    "\n",
    "sys.path.append(data_path)\n",
    "from data_processing.dataset_a import DatasetA, CycleCols\n",
    "from data_processing.model_data_handler import ModelDataHandler"
   ]
  },
  {
   "cell_type": "markdown",
   "metadata": {
    "id": "MfVCRISs2Utc"
   },
   "source": [
    "### Config logging"
   ]
  },
  {
   "cell_type": "code",
   "execution_count": null,
   "metadata": {
    "id": "K2IvySBk2Utd"
   },
   "outputs": [],
   "source": [
    "reload(logging)\n",
    "logging.basicConfig(format='%(asctime)s [%(levelname)s]: %(message)s', level=logging.DEBUG, datefmt='%Y/%m/%d %H:%M:%S')"
   ]
  },
  {
   "cell_type": "markdown",
   "metadata": {
    "id": "KsbkwTX22Utf"
   },
   "source": [
    "# Load Data"
   ]
  },
  {
   "cell_type": "markdown",
   "metadata": {
    "id": "wGH78-0Z2Utg"
   },
   "source": [
    "### Initial the data object\n",
    "\n",
    "Load the cycle and capacity data to memory based on the specified chunk size"
   ]
  },
  {
   "cell_type": "code",
   "execution_count": null,
   "metadata": {
    "colab": {
     "base_uri": "https://localhost:8080/"
    },
    "id": "DrHYRy-a2Utg",
    "outputId": "857ae721-7b01-4190-9963-113300d31149"
   },
   "outputs": [],
   "source": [
    "dataset = DatasetA(\n",
    "    test_types=[],\n",
    "    chunk_size=1000000,\n",
    "    lines=[37, 40],\n",
    "    charge_line=37,\n",
    "    discharge_line=40,\n",
    "    base_path=data_path\n",
    ")"
   ]
  },
  {
   "cell_type": "markdown",
   "metadata": {
    "id": "XlLw41D72Utj"
   },
   "source": [
    "### Determine the training and testing name\n",
    "\n",
    "Prepare the training and testing data for model data handler to load the model input and output data."
   ]
  },
  {
   "cell_type": "code",
   "execution_count": null,
   "metadata": {
    "colab": {
     "base_uri": "https://localhost:8080/"
    },
    "id": "NSFp-2Rl2Utj",
    "outputId": "856d898b-0bab-49fb-85cf-6d8864a55a0f"
   },
   "outputs": [],
   "source": [
    "train_data_test_names = [\n",
    "    '000-DM-3.0-4019-S',  \n",
    "    '001-DM-3.0-4019-S',  \n",
    "    '002-DM-3.0-4019-S', \n",
    "\n",
    "    '006-EE-2.85-0820-S', \n",
    "    '007-EE-2.85-0820-S',\n",
    "    '042-EE-2.85-0820-S',\n",
    "\n",
    "    '009-DM-3.0-4019-H',  \n",
    "    '010-DM-3.0-4019-H',\n",
    "\n",
    "    '013-DM-3.0-4019-P',  \n",
    "    '014-DM-3.0-4019-P',\n",
    "    '015-DM-3.0-4019-P',  \n",
    "    '016-DM-3.0-4019-P', \n",
    "\n",
    "    '018-DP-2.00-1320-S', \n",
    "    '019-DP-2.00-1320-S', \n",
    "    '036-DP-2.00-1720-S',\n",
    "    '037-DP-2.00-1720-S', \n",
    "    '038-DP-2.00-2420-S',\n",
    "\n",
    "    '043-EE-2.85-0820-H',\n",
    "    \n",
    "    '040-DM-4.00-2320-S', \n",
    "    #'045-BE-2.75-2019-S'\n",
    "]\n",
    "\n",
    "test_data_test_names = [\n",
    "    '003-DM-3.0-4019-S', \n",
    "    '008-EE-2.85-0820-S', \n",
    "    '011-DM-3.0-4019-H', \n",
    "    '017-DM-3.0-4019-P', \n",
    "    '039-DP-2.00-2420-S',\n",
    "    '044-EE-2.85-0820-H',\n",
    "    \n",
    "    '041-DM-4.00-2320-S',\n",
    "]\n",
    "\n",
    "dataset.prepare_data(train_data_test_names, test_data_test_names)"
   ]
  },
  {
   "cell_type": "markdown",
   "metadata": {
    "id": "jcLJjuuB2Utm"
   },
   "source": [
    "### Initial the model data handler\n",
    "\n",
    "Model data handler will be used to get the model input and output data for further training purpose."
   ]
  },
  {
   "cell_type": "code",
   "execution_count": null,
   "metadata": {
    "id": "k-yTrXQ12Utm"
   },
   "outputs": [],
   "source": [
    "mdh = ModelDataHandler(dataset, [\n",
    "    CycleCols.VOLTAGE,\n",
    "    CycleCols.CURRENT,\n",
    "    CycleCols.TEMPERATURE\n",
    "])"
   ]
  },
  {
   "cell_type": "markdown",
   "metadata": {
    "id": "7iYU-n0K2Utq"
   },
   "source": [
    "# Model training"
   ]
  },
  {
   "cell_type": "code",
   "execution_count": null,
   "metadata": {
    "colab": {
     "base_uri": "https://localhost:8080/"
    },
    "id": "n6890VzH2Utq",
    "outputId": "74cbbe9c-fe83-43f9-c5a5-ee4986d3a7ec"
   },
   "outputs": [],
   "source": [
    "train_x, train_y, test_x, test_y = mdh.get_discharge_whole_cycle(soh = False, output_capacity = False)\n"
   ]
  },
  {
   "cell_type": "code",
   "execution_count": null,
   "metadata": {
    "colab": {
     "base_uri": "https://localhost:8080/"
    },
    "id": "O8_QHu_mN8y3",
    "outputId": "e0087bd3-1448-4920-bdb4-16cbca04f8b7"
   },
   "outputs": [],
   "source": [
    "train_y = mdh.keep_only_capacity(train_y, is_multiple_output = True)\n",
    "test_y = mdh.keep_only_capacity(test_y, is_multiple_output = True)"
   ]
  },
  {
   "cell_type": "code",
   "execution_count": null,
   "metadata": {
    "colab": {
     "base_uri": "https://localhost:8080/"
    },
    "id": "LSx96n4w2Uts",
    "outputId": "67060822-e91c-4299-acff-1d183c287d1c"
   },
   "outputs": [],
   "source": [
    "EXPERIMENT = \"lstm_soc_percentage_all_types\"\n",
    "\n",
    "experiment_name = time.strftime(\"%Y-%m-%d-%H-%M-%S\") + '_' + EXPERIMENT\n",
    "print(experiment_name)\n",
    "\n",
    "os.environ[\"CUDA_VISIBLE_DEVICES\"] = \"3\"\n",
    "\n",
    "# Model definition\n",
    "\n",
    "opt = tf.keras.optimizers.Adam(lr=0.00003)\n",
    "\n",
    "model = Sequential()\n",
    "model.add(LSTM(256, activation='selu',\n",
    "                return_sequences=True,\n",
    "                input_shape=(train_x.shape[1], train_x.shape[2])))\n",
    "model.add(LSTM(256, activation='selu', return_sequences=True))\n",
    "model.add(LSTM(128, activation='selu', return_sequences=True))\n",
    "model.add(Dense(64, activation='selu'))\n",
    "model.add(Dense(1, activation='linear'))\n",
    "model.summary()\n",
    "\n",
    "model.compile(optimizer=opt, loss='huber', metrics=['mse', 'mae', 'mape', tf.keras.metrics.RootMeanSquaredError(name='rmse')])\n",
    "\n",
    "es = EarlyStopping(monitor='val_loss', patience=50)\n",
    "mc = ModelCheckpoint(data_path + 'results/trained_model/%s_best.h5' % experiment_name, \n",
    "                             save_best_only=True, \n",
    "                             monitor='val_loss')"
   ]
  },
  {
   "cell_type": "code",
   "execution_count": null,
   "metadata": {
    "colab": {
     "base_uri": "https://localhost:8080/"
    },
    "id": "AIEcv6Ey2Utu",
    "outputId": "68b17143-7cab-4ba0-ea34-e95d7403fc92"
   },
   "outputs": [],
   "source": [
    "history = model.fit(train_x, train_y, \n",
    "                                epochs=1000, \n",
    "                                batch_size=32, \n",
    "                                verbose=2,\n",
    "                                validation_split=0.2,\n",
    "                                callbacks = [es, mc]\n",
    "                               )"
   ]
  },
  {
   "cell_type": "code",
   "execution_count": null,
   "metadata": {
    "id": "oNHlqcvP2Utx"
   },
   "outputs": [],
   "source": [
    "model.save(data_path + 'results/trained_model/%s.h5' % experiment_name)\n",
    "\n",
    "hist_df = pd.DataFrame(history.history)\n",
    "hist_csv_file = data_path + 'results/trained_model/%s_history.csv' % experiment_name\n",
    "with open(hist_csv_file, mode='w') as f:\n",
    "    hist_df.to_csv(f)"
   ]
  },
  {
   "cell_type": "markdown",
   "metadata": {
    "id": "LH5RANQIEQVx"
   },
   "source": [
    "### Testing"
   ]
  },
  {
   "cell_type": "code",
   "execution_count": null,
   "metadata": {
    "colab": {
     "base_uri": "https://localhost:8080/"
    },
    "id": "ggNKW-VqENFN",
    "outputId": "1c98ec83-5c28-4557-d4c3-2a968c755a11"
   },
   "outputs": [],
   "source": [
    "results = model.evaluate(test_x, test_y)\n",
    "print(results)"
   ]
  },
  {
   "cell_type": "markdown",
   "metadata": {
    "id": "uiqyD8Bn2Utz"
   },
   "source": [
    "# Data Visualization"
   ]
  },
  {
   "cell_type": "code",
   "execution_count": null,
   "metadata": {
    "colab": {
     "base_uri": "https://localhost:8080/",
     "height": 637
    },
    "id": "jH9RrBRN2Utz",
    "outputId": "cc642260-a663-4368-c05e-3a7b16c373bc"
   },
   "outputs": [],
   "source": [
    "# fig = go.Figure()\n",
    "# fig.add_trace(go.Scatter(y=history.history['loss'],\n",
    "#                     mode='lines', name='train'))\n",
    "# fig.add_trace(go.Scatter(y=history.history['val_loss'],\n",
    "#                     mode='lines', name='validation'))\n",
    "# fig.update_layout(title='Loss trend',\n",
    "#                   xaxis_title='epoch',\n",
    "#                   yaxis_title='loss')\n",
    "# fig.show()"
   ]
  },
  {
   "cell_type": "code",
   "execution_count": null,
   "metadata": {
    "id": "gtLOteXd-d6n"
   },
   "outputs": [],
   "source": [
    "# train_predictions = model.predict(train_x)"
   ]
  },
  {
   "cell_type": "code",
   "execution_count": null,
   "metadata": {
    "colab": {
     "base_uri": "https://localhost:8080/",
     "height": 637
    },
    "id": "ZsYMPQ0i2Ut1",
    "outputId": "6eb3295c-3fc3-4d06-8946-5510da3f5e93"
   },
   "outputs": [],
   "source": [
    "# cycle_num = 0\n",
    "# steps_num = 8000\n",
    "# step_index = np.arange(cycle_num*steps_num, (cycle_num+1)*steps_num)\n",
    "\n",
    "# fig = go.Figure()\n",
    "# fig.add_trace(go.Scatter(x=step_index, y=train_predictions.flatten()[cycle_num*steps_num:(cycle_num+1)*steps_num],\n",
    "#                     mode='lines', name='SoC predicted'))\n",
    "# fig.add_trace(go.Scatter(x=step_index, y=train_y.flatten()[cycle_num*steps_num:(cycle_num+1)*steps_num],\n",
    "#                     mode='lines', name='SoC actual'))\n",
    "# fig.update_layout(title='Results on training',\n",
    "#                   xaxis_title='Cycle',\n",
    "#                   yaxis_title='SoC percentage')\n",
    "# fig.show()"
   ]
  },
  {
   "cell_type": "code",
   "execution_count": null,
   "metadata": {
    "id": "m0olyqr4-8BG"
   },
   "outputs": [],
   "source": [
    "# test_predictions = model.predict(test_x)"
   ]
  },
  {
   "cell_type": "code",
   "execution_count": null,
   "metadata": {
    "colab": {
     "base_uri": "https://localhost:8080/",
     "height": 637
    },
    "id": "9U1MbGnq2Ut4",
    "outputId": "91548d86-e08b-4e04-8c63-12138a2aa5e9"
   },
   "outputs": [],
   "source": [
    "# cycle_num = 0\n",
    "# steps_num = 1000\n",
    "# step_index = np.arange(cycle_num*steps_num, (cycle_num+1)*steps_num)\n",
    "\n",
    "# fig = go.Figure()\n",
    "# fig.add_trace(go.Scatter(x=step_index, y=test_predictions.flatten()[cycle_num*steps_num:(cycle_num+1)*steps_num],\n",
    "#                     mode='lines', name='SoC predicted'))\n",
    "# fig.add_trace(go.Scatter(x=step_index, y=test_y.flatten()[cycle_num*steps_num:(cycle_num+1)*steps_num],\n",
    "#                     mode='lines', name='SoC actual'))\n",
    "# fig.update_layout(title='Results on testing',\n",
    "#                   xaxis_title='Cycle',\n",
    "#                   yaxis_title='SoC percentage')\n",
    "# fig.show()"
   ]
  }
 ],
 "metadata": {
  "accelerator": "GPU",
  "colab": {
   "collapsed_sections": [],
   "name": "lstm_soc_percentage.ipynb",
   "provenance": []
  },
  "kernelspec": {
   "display_name": "Python 3",
   "language": "python",
   "name": "python3"
  },
  "language_info": {
   "codemirror_mode": {
    "name": "ipython",
    "version": 3
   },
   "file_extension": ".py",
   "mimetype": "text/x-python",
   "name": "python",
   "nbconvert_exporter": "python",
   "pygments_lexer": "ipython3",
   "version": "3.6.9"
  }
 },
 "nbformat": 4,
 "nbformat_minor": 4
}
