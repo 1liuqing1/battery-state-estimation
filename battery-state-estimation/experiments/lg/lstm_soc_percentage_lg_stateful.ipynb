{
  "nbformat": 4,
  "nbformat_minor": 0,
  "metadata": {
    "accelerator": "GPU",
    "colab": {
      "name": "lstm_soc_percentage_lg_stateful.ipynb",
      "provenance": [],
      "collapsed_sections": []
    },
    "kernelspec": {
      "display_name": "Python 3.8.6 64-bit",
      "name": "python3"
    },
    "language_info": {
      "codemirror_mode": {
        "name": "ipython",
        "version": 3
      },
      "file_extension": ".py",
      "mimetype": "text/x-python",
      "name": "python",
      "nbconvert_exporter": "python",
      "pygments_lexer": "ipython3",
      "version": "3.8.6-final"
    }
  },
  "cells": [
    {
      "cell_type": "markdown",
      "metadata": {
        "id": "jw9FMur02UtZ"
      },
      "source": [
        "# Main notebook for battery state estimation"
      ]
    },
    {
      "cell_type": "code",
      "metadata": {
        "colab": {
          "base_uri": "https://localhost:8080/"
        },
        "id": "XKxZ90kO2Uta",
        "outputId": "54ed3aa5-166f-46a4-d733-4228137116b5"
      },
      "source": [
        "import numpy as np\n",
        "import pandas as pd\n",
        "import scipy.io\n",
        "import math\n",
        "import os\n",
        "import ntpath\n",
        "import sys\n",
        "import logging\n",
        "import time\n",
        "import sys\n",
        "import random\n",
        "\n",
        "from importlib import reload\n",
        "import plotly.graph_objects as go\n",
        "\n",
        "import tensorflow as tf\n",
        "from tensorflow import keras\n",
        "from tensorflow.keras import layers\n",
        "\n",
        "from keras.models import Sequential\n",
        "from keras.layers.core import Dense, Dropout, Activation\n",
        "from keras.optimizers import SGD, Adam\n",
        "from keras.utils import np_utils\n",
        "from keras.layers import LSTM, Embedding, RepeatVector, TimeDistributed, Masking, Bidirectional\n",
        "from keras.callbacks import EarlyStopping, ModelCheckpoint, LambdaCallback\n",
        "\n",
        "\n",
        "IS_COLAB = True\n",
        "\n",
        "if IS_COLAB:\n",
        "    from google.colab import drive\n",
        "    drive.mount('/content/drive')\n",
        "    data_path = \"/content/drive/My Drive/battery-state-estimation/battery-state-estimation/\"\n",
        "else:\n",
        "    data_path = \"../\"\n",
        "\n",
        "sys.path.append(data_path)\n",
        "from data_processing.lg_dataset import LgData"
      ],
      "execution_count": null,
      "outputs": []
    },
    {
      "cell_type": "markdown",
      "metadata": {
        "id": "MfVCRISs2Utc"
      },
      "source": [
        "### Config logging"
      ]
    },
    {
      "cell_type": "code",
      "metadata": {
        "id": "K2IvySBk2Utd"
      },
      "source": [
        "reload(logging)\n",
        "logging.basicConfig(format='%(asctime)s [%(levelname)s]: %(message)s', level=logging.DEBUG, datefmt='%Y/%m/%d %H:%M:%S')"
      ],
      "execution_count": null,
      "outputs": []
    },
    {
      "cell_type": "markdown",
      "metadata": {
        "id": "KsbkwTX22Utf"
      },
      "source": [
        "# Load Data"
      ]
    },
    {
      "cell_type": "code",
      "metadata": {
        "colab": {
          "base_uri": "https://localhost:8080/"
        },
        "id": "k-yTrXQ12Utm",
        "outputId": "5db8c64e-cabd-4724-97ae-5f1f66a5e6ff"
      },
      "source": [
        "train_names = [\n",
        "    '25degC/551_LA92', \n",
        "    '25degC/551_Mixed1', \n",
        "    '25degC/551_Mixed2', \n",
        "    '25degC/551_UDDS', \n",
        "    '25degC/551_US06', \n",
        "    '25degC/552_Mixed3',\n",
        "\n",
        "    '25degC/552_Mixed7', \n",
        "    '25degC/552_Mixed8', \n",
        "    ]\n",
        "test_names = [\n",
        "    '25degC/552_Mixed4', \n",
        "    '25degC/552_Mixed5', \n",
        "    '25degC/552_Mixed6', \n",
        "    ]\n",
        "\n",
        "steps = 100\n",
        "\n",
        "lg_data = LgData(data_path)\n",
        "cycles = lg_data.get_discharge_whole_cycle(train_names, test_names, output_capacity=False)\n",
        "train_x, train_y, test_x, test_y = lg_data.get_stateful_cycle(cycles, steps = steps)\n",
        "\n",
        "train_y = lg_data.keep_only_y_end(train_y, steps, is_stateful=True)\n",
        "test_y = lg_data.keep_only_y_end(test_y, steps, is_stateful=True)"
      ],
      "execution_count": null,
      "outputs": []
    },
    {
      "cell_type": "markdown",
      "metadata": {
        "id": "7iYU-n0K2Utq"
      },
      "source": [
        "# Model training"
      ]
    },
    {
      "cell_type": "code",
      "metadata": {
        "colab": {
          "base_uri": "https://localhost:8080/"
        },
        "id": "LSx96n4w2Uts",
        "outputId": "ee21d794-42a6-4b4d-90d6-6d1019062d42"
      },
      "source": [
        "# Model definition\n",
        "\n",
        "def build_model(batch_size):\n",
        "    opt = tf.keras.optimizers.Adam(lr=0.00001)\n",
        "\n",
        "    model = Sequential()\n",
        "    model.add(LSTM(512, activation='tanh',\n",
        "                    return_sequences=True,\n",
        "                    stateful=True,batch_size=batch_size,\n",
        "                    input_shape=(train_x.shape[2], train_x.shape[3])))\n",
        "    model.add(LSTM(512, activation='tanh', return_sequences=True, stateful=True))\n",
        "    model.add(LSTM(256, activation='tanh', return_sequences=True, stateful=True))\n",
        "    model.add(Dense(256, activation='selu'))\n",
        "    model.add(Dense(128, activation='selu'))\n",
        "    model.add(Dense(1, activation='linear'))\n",
        "    model.summary()\n",
        "\n",
        "    model.compile(optimizer=opt, loss='huber', metrics=['mse', tf.keras.metrics.RootMeanSquaredError(name='rmse')])\n",
        "    return model\n",
        "\n",
        "# Other options\n",
        "    #model = Sequential()\n",
        "    #model.add(Masking(\n",
        "    #            batch_size=batch_size,\n",
        "    #            input_shape=(train_x.shape[2], train_x.shape[3])))\n",
        "    #model.add(LSTM(512, activation='selu',\n",
        "    #                return_sequences=True,\n",
        "    #                stateful=True))\n",
        "    #model.add(LSTM(512, activation='selu', return_sequences=True, stateful=True))\n",
        "    #model.add(LSTM(256, activation='selu', return_sequences=False, stateful=True))\n",
        "    #model.add(Dense(256, activation='selu'))\n",
        "    #model.add(Dense(128, activation='selu'))\n",
        "    #model.add(Dense(1, activation='linear'))\n",
        "    #model.summary()\n",
        "\n",
        "    #model = Sequential()\n",
        "    #odel.add(LSTM(1024, activation='tanh',\n",
        "    #                return_sequences=True,\n",
        "    #                stateful=True,batch_size=batch_size,\n",
        "    #                input_shape=(train_x.shape[2], train_x.shape[3])))\n",
        "    #model.add(LSTM(1024, activation='tanh', return_sequences=True, stateful=True))\n",
        "    #model.add(LSTM(512, activation='tanh', return_sequences=True, stateful=True))\n",
        "    #model.add(Dense(256, activation='selu'))\n",
        "    #model.add(Dense(128, activation='selu'))\n",
        "    #model.add(Dense(64, activation='selu'))\n",
        "    #model.add(Dense(1, activation='linear'))\n",
        "    #model.summary()\n",
        "\n",
        "    #model = Sequential()\n",
        "    #model.add(Bidirectional(LSTM(512, activation='tanh',\n",
        "    #                return_sequences=True,\n",
        "    #                stateful=True), batch_size=batch_size,\n",
        "    #                input_shape=(train_x.shape[2], train_x.shape[3])))\n",
        "    #model.add(Bidirectional(LSTM(512, activation='tanh', return_sequences=True, stateful=True)))\n",
        "    #model.add(Bidirectional(LSTM(256, activation='tanh', return_sequences=False, stateful=True)))\n",
        "    #model.add(Dense(256, activation='selu'))\n",
        "    #model.add(Dense(128, activation='selu'))\n",
        "    #model.add(Dense(1, activation='linear'))\n",
        "    #model.summary()\n",
        "\n",
        "\n",
        "EXPERIMENT = \"lstm_soc_lg_stateful\"\n",
        "\n",
        "experiment_name = time.strftime(\"%Y-%m-%d-%H-%M-%S\") + '_' + EXPERIMENT\n",
        "print(experiment_name)\n",
        "model = build_model(train_x.shape[0])"
      ],
      "execution_count": null,
      "outputs": []
    },
    {
      "cell_type": "code",
      "metadata": {
        "colab": {
          "base_uri": "https://localhost:8080/",
          "height": 388
        },
        "id": "AIEcv6Ey2Utu",
        "outputId": "f3d5d350-0adb-4b3f-dac1-f2d5be8340b4"
      },
      "source": [
        "NUM_EPOCH = 200\n",
        "history = {\"loss\": [], \"mse\": [], \"rmse\": []}\n",
        "for epoch in range(NUM_EPOCH):\n",
        "    avg_history = {\"loss\": [], \"mse\": [], \"rmse\": []}\n",
        "    shuffled_cycle_index = random.sample(range(train_x.shape[0]), train_x.shape[0])\n",
        "    for chunk in range(train_x.shape[1]):\n",
        "        batch_x = []\n",
        "        batch_y = []\n",
        "        for i in shuffled_cycle_index:\n",
        "            batch_x.append(train_x[i, chunk, :, :])\n",
        "            batch_y.append(train_y[i, chunk, :, :])\n",
        "        batch_x = np.array(batch_x)\n",
        "        batch_y = np.array(batch_y)\n",
        "        results = model.fit(batch_x, batch_y, shuffle=False, verbose=0, batch_size=train_x.shape[0])\n",
        "        avg_history[\"loss\"].append(results.history[\"loss\"])\n",
        "        avg_history[\"mse\"].append(results.history[\"mse\"])\n",
        "        avg_history[\"rmse\"].append(results.history[\"rmse\"])\n",
        "        print('\\rChunk {}/{} - loss: {:.4e} - mse: {:.4e} - rmse: {}'.format(chunk, train_x.shape[1], np.mean(avg_history[\"loss\"]), np.mean(avg_history[\"mse\"]), np.mean(avg_history[\"rmse\"])), end=\"\")\n",
        "    history[\"loss\"].append(np.mean(avg_history[\"loss\"]))\n",
        "    history[\"mse\"].append(np.mean(avg_history[\"mse\"]))\n",
        "    history[\"rmse\"].append(np.mean(avg_history[\"rmse\"]))\n",
        "    print(\"\\rEpoch {}/{} - loss: {:.4e} - mse: {:.4e} - rmse: {}\".format(epoch+1, NUM_EPOCH, history[\"loss\"][-1], history[\"mse\"][-1], history[\"rmse\"][-1]))\n",
        "    model.reset_states()"
      ],
      "execution_count": null,
      "outputs": []
    },
    {
      "cell_type": "code",
      "metadata": {
        "id": "oNHlqcvP2Utx"
      },
      "source": [
        "model.save(data_path + 'results/trained_model/%s.h5' % experiment_name)\n",
        "\n",
        "hist_df = pd.DataFrame(history)\n",
        "hist_csv_file = data_path + 'results/trained_model/%s_history.csv' % experiment_name\n",
        "with open(hist_csv_file, mode='w') as f:\n",
        "    hist_df.to_csv(f)"
      ],
      "execution_count": null,
      "outputs": []
    },
    {
      "cell_type": "markdown",
      "metadata": {
        "id": "LH5RANQIEQVx"
      },
      "source": [
        "### Testing"
      ]
    },
    {
      "cell_type": "code",
      "metadata": {
        "colab": {
          "base_uri": "https://localhost:8080/",
          "height": 741
        },
        "id": "ggNKW-VqENFN",
        "outputId": "0f608db8-d8ed-4b57-97ca-614432d36add"
      },
      "source": [
        "test_model = build_model(test_x.shape[0])\n",
        "test_model.set_weights(model.get_weights())\n",
        "\n",
        "\n",
        "test_history = {\"loss\": [], \"mse\": [], \"rmse\": []}\n",
        "for chunk in range(test_x.shape[1]):\n",
        "    batch_x = []\n",
        "    batch_y = []\n",
        "    for i in range(test_x.shape[0]):\n",
        "        batch_x.append(test_x[i, chunk, :, :])\n",
        "        batch_y.append(test_y[i, chunk, :, :])\n",
        "    batch_x = np.array(batch_x)\n",
        "    batch_y = np.array(batch_y)\n",
        "    results = test_model.evaluate(batch_x, batch_y, verbose=0, batch_size=test_x.shape[0])\n",
        "    test_history[\"loss\"].append(results[0])\n",
        "    test_history[\"mse\"].append(results[1])\n",
        "    test_history[\"rmse\"].append(results[2])\n",
        "    print('\\rChunk {}/{} - loss: {:.4e} - mse: {:.4e} - rmse: {}'.format(chunk, test_x.shape[1], np.mean(test_history[\"loss\"]), np.mean(test_history[\"mse\"]), np.mean(test_history[\"rmse\"])), end=\"\")\n",
        "print(\"\\rEvaluation - loss: {:.4e} - mse: {:.4e} - rmse: {}\".format(np.mean(test_history[\"loss\"]), np.mean(test_history[\"mse\"]), np.mean(test_history[\"rmse\"])))\n",
        "test_model.reset_states()"
      ],
      "execution_count": null,
      "outputs": []
    },
    {
      "cell_type": "markdown",
      "metadata": {
        "id": "uiqyD8Bn2Utz"
      },
      "source": [
        "# Data Visualization"
      ]
    },
    {
      "cell_type": "code",
      "metadata": {
        "id": "jH9RrBRN2Utz"
      },
      "source": [
        "fig = go.Figure()\n",
        "fig.add_trace(go.Scatter(y=history['loss'],\n",
        "                    mode='lines', name='train'))\n",
        "fig.update_layout(title='Loss trend',\n",
        "                  xaxis_title='epoch',\n",
        "                  yaxis_title='loss',\n",
        "                  width=1400,\n",
        "                  height=600)\n",
        "fig.show()"
      ],
      "execution_count": null,
      "outputs": []
    },
    {
      "cell_type": "code",
      "metadata": {
        "id": "gtLOteXd-d6n"
      },
      "source": [
        "model.reset_states()\n",
        "train_predictions = []\n",
        "for chunk in range(train_x.shape[1]):\n",
        "    batch_x = []\n",
        "    for i in range(train_x.shape[0]):\n",
        "        batch_x.append(train_x[i, chunk, :, :])\n",
        "    batch_x = np.array(batch_x)\n",
        "    train_predictions.append(model.predict(batch_x, batch_size=train_x.shape[0]))\n",
        "train_predictions = np.array(train_predictions)\n",
        "\n",
        "cycles = np.zeros((train_predictions.shape[1], train_predictions.shape[0], train_predictions.shape[2], 1), float)\n",
        "for chunk in range(train_predictions.shape[0]):\n",
        "  for cycle in range(train_predictions.shape[1]):\n",
        "    cycles[cycle, chunk, :] = train_predictions[chunk, cycle, :]\n",
        "train_predictions = cycles"
      ],
      "execution_count": null,
      "outputs": []
    },
    {
      "cell_type": "code",
      "metadata": {
        "colab": {
          "background_save": true,
          "base_uri": "https://localhost:8080/",
          "height": 637
        },
        "id": "ZsYMPQ0i2Ut1",
        "outputId": "e286f52e-0683-4051-a397-c18996623a65"
      },
      "source": [
        "cycle_num = 0\n",
        "steps_num = 10000\n",
        "skip_step = 1\n",
        "step_index = np.arange(cycle_num*steps_num, (cycle_num+1)*steps_num)\n",
        "\n",
        "fig = go.Figure()\n",
        "fig.add_trace(go.Scatter(x=step_index, y=train_predictions.flatten()[cycle_num*steps_num:(cycle_num+1)*steps_num:skip_step],\n",
        "                    mode='lines', name='SoC predicted'))\n",
        "fig.add_trace(go.Scatter(x=step_index, y=train_y.flatten()[cycle_num*steps_num:(cycle_num+1)*steps_num:skip_step],\n",
        "                    mode='lines', name='SoC actual'))\n",
        "fig.update_layout(title='Results on training',\n",
        "                  xaxis_title='Step (x{})'.format(skip_step),\n",
        "                  yaxis_title='SoC percentage',\n",
        "                  width=1400,\n",
        "                  height=600)\n",
        "fig.show()"
      ],
      "execution_count": null,
      "outputs": []
    },
    {
      "cell_type": "code",
      "metadata": {
        "id": "m0olyqr4-8BG"
      },
      "source": [
        "test_model.reset_states()\n",
        "test_predictions = []\n",
        "for chunk in range(test_x.shape[1]):\n",
        "    batch_x = []\n",
        "    for i in range(test_x.shape[0]):\n",
        "        batch_x.append(test_x[i, chunk, :, :])\n",
        "    batch_x = np.array(batch_x)\n",
        "    test_predictions.append(test_model.predict(batch_x, batch_size=test_x.shape[0]))\n",
        "test_predictions = np.array(test_predictions)\n",
        "\n",
        "cycles = np.zeros((test_predictions.shape[1], test_predictions.shape[0], test_predictions.shape[2], test_predictions.shape[3]), float)\n",
        "for chunk in range(test_predictions.shape[0]):\n",
        "  for cycle in range(test_predictions.shape[1]):\n",
        "    cycles[cycle, chunk, :] = test_predictions[chunk, cycle, :]\n",
        "test_predictions = cycles"
      ],
      "execution_count": null,
      "outputs": []
    },
    {
      "cell_type": "code",
      "metadata": {
        "colab": {
          "base_uri": "https://localhost:8080/",
          "height": 230
        },
        "id": "9U1MbGnq2Ut4",
        "outputId": "af53a967-a775-46e0-bf05-1cf44531ad6d"
      },
      "source": [
        "cycle_num = 0\n",
        "steps_num = 800000\n",
        "skip_step = 1000\n",
        "step_index = np.arange(cycle_num*steps_num, (cycle_num+1)*steps_num)\n",
        "\n",
        "fig = go.Figure()\n",
        "fig.add_trace(go.Scatter(x=step_index, y=test_predictions.flatten()[cycle_num*steps_num:(cycle_num+1)*steps_num:skip_step],\n",
        "                    mode='lines', name='SoC predicted'))\n",
        "fig.add_trace(go.Scatter(x=step_index, y=test_y.flatten()[cycle_num*steps_num:(cycle_num+1)*steps_num:skip_step],\n",
        "                    mode='lines', name='SoC actual'))\n",
        "fig.update_layout(title='Results on testing',\n",
        "                  xaxis_title='Step (x{})'.format(skip_step),\n",
        "                  yaxis_title='SoC percentage',\n",
        "                  width=1400,\n",
        "                  height=600)\n",
        "fig.show()"
      ],
      "execution_count": null,
      "outputs": []
    }
  ]
}