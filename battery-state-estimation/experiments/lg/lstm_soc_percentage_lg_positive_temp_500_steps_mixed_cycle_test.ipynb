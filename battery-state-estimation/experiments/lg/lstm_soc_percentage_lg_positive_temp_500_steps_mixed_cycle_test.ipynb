{
 "cells": [
  {
   "cell_type": "markdown",
   "metadata": {
    "id": "jw9FMur02UtZ"
   },
   "source": [
    "# Main notebook for battery state estimation"
   ]
  },
  {
   "cell_type": "code",
   "execution_count": null,
   "metadata": {
    "colab": {
     "base_uri": "https://localhost:8080/"
    },
    "id": "XKxZ90kO2Uta",
    "outputId": "1dbfc102-cca5-4571-9ae1-f1f0c0ca5ae3"
   },
   "outputs": [],
   "source": [
    "import numpy as np\n",
    "import pandas as pd\n",
    "import scipy.io\n",
    "import math\n",
    "import os\n",
    "import ntpath\n",
    "import sys\n",
    "import logging\n",
    "import time\n",
    "import sys\n",
    "\n",
    "from importlib import reload\n",
    "import plotly.graph_objects as go\n",
    "\n",
    "import tensorflow as tf\n",
    "from tensorflow import keras\n",
    "from tensorflow.keras import layers\n",
    "\n",
    "from keras.models import Sequential\n",
    "from keras.layers.core import Dense, Dropout, Activation\n",
    "from keras.optimizers import SGD, Adam\n",
    "from keras.utils import np_utils\n",
    "from keras.layers import LSTM, Embedding, RepeatVector, TimeDistributed, Masking\n",
    "from keras.callbacks import EarlyStopping, ModelCheckpoint, LambdaCallback\n",
    "\n",
    "\n",
    "IS_COLAB = False\n",
    "\n",
    "if IS_COLAB:\n",
    "    from google.colab import drive\n",
    "    drive.mount('/content/drive')\n",
    "    data_path = \"/content/drive/My Drive/battery-state-estimation/battery-state-estimation/\"\n",
    "else:\n",
    "    data_path = \"../../\"\n",
    "\n",
    "sys.path.append(data_path)\n",
    "from data_processing.lg_dataset import LgData"
   ]
  },
  {
   "cell_type": "markdown",
   "metadata": {
    "id": "MfVCRISs2Utc"
   },
   "source": [
    "### Config logging"
   ]
  },
  {
   "cell_type": "code",
   "execution_count": null,
   "metadata": {
    "id": "K2IvySBk2Utd"
   },
   "outputs": [],
   "source": [
    "reload(logging)\n",
    "logging.basicConfig(format='%(asctime)s [%(levelname)s]: %(message)s', level=logging.DEBUG, datefmt='%Y/%m/%d %H:%M:%S')"
   ]
  },
  {
   "cell_type": "markdown",
   "metadata": {
    "id": "KsbkwTX22Utf"
   },
   "source": [
    "# Load Data"
   ]
  },
  {
   "cell_type": "code",
   "execution_count": null,
   "metadata": {
    "colab": {
     "base_uri": "https://localhost:8080/"
    },
    "id": "k-yTrXQ12Utm",
    "outputId": "f6c12dde-991e-4d33-cb14-dec698c6a0f4"
   },
   "outputs": [],
   "source": [
    "train_names = [\n",
    "    '0degC/589_Mixed1',\n",
    "    '0degC/589_Mixed2',\n",
    "    '0degC/590_Mixed4',\n",
    "    '0degC/590_Mixed5',\n",
    "    '0degC/590_Mixed6',\n",
    "    '0degC/590_Mixed8',\n",
    "\n",
    "    '10degC/567_Mixed1',\n",
    "    '10degC/567_Mixed2',\n",
    "    '10degC/571_Mixed4',\n",
    "    '10degC/571_Mixed5',\n",
    "    '10degC/571_Mixed6',\n",
    "    '10degC/571_Mixed8',\n",
    "    \n",
    "    '25degC/551_Mixed1', \n",
    "    '25degC/551_Mixed2', \n",
    "    #'25degC/552_Mixed3',\n",
    "    '25degC/552_Mixed4', \n",
    "    '25degC/552_Mixed5', \n",
    "    '25degC/552_Mixed6', \n",
    "    '25degC/552_Mixed8',   \n",
    "    ]\n",
    "test_names = [\n",
    "    '0degC/589_LA92',\n",
    "    '0degC/589_UDDS',\n",
    "    '0degC/589_US06',\n",
    "    '0degC/590_Mixed7',    \n",
    "        \n",
    "    '10degC/582_LA92',\n",
    "    '10degC/576_UDDS',\n",
    "    '10degC/567_US06',\n",
    "    '10degC/571_Mixed7',\n",
    "\n",
    "    '25degC/551_LA92', \n",
    "    '25degC/551_UDDS', \n",
    "    '25degC/551_US06',\n",
    "    '25degC/552_Mixed7', \n",
    "    ]\n",
    "\n",
    "steps = 500\n",
    "\n",
    "lg_data = LgData(data_path)\n",
    "cycles = lg_data.get_discharge_whole_cycle(train_names, test_names, output_capacity=False, scale_test=True)\n",
    "train_x, train_y, test_x, test_y = lg_data.get_discharge_multiple_step(cycles, steps)\n",
    "\n",
    "train_y = lg_data.keep_only_y_end(train_y, steps)\n",
    "test_y = lg_data.keep_only_y_end(test_y, steps)"
   ]
  },
  {
   "cell_type": "markdown",
   "metadata": {
    "id": "7iYU-n0K2Utq"
   },
   "source": [
    "# Model training"
   ]
  },
  {
   "cell_type": "code",
   "execution_count": null,
   "metadata": {
    "colab": {
     "base_uri": "https://localhost:8080/"
    },
    "id": "LSx96n4w2Uts",
    "outputId": "60159196-9c5b-4a72-e9cf-e5e448793f7c"
   },
   "outputs": [],
   "source": [
    "EXPERIMENT = \"lstm_soc_percentage_lg_positive_temp_500_steps_mixed_cycle_test\"\n",
    "\n",
    "experiment_name = time.strftime(\"%Y-%m-%d-%H-%M-%S\") + '_' + EXPERIMENT\n",
    "print(experiment_name)\n",
    "\n",
    "os.environ[\"CUDA_VISIBLE_DEVICES\"] = \"1\"\n",
    "    \n",
    "# Model definition\n",
    "opt = tf.keras.optimizers.Adam(lr=0.00001)\n",
    "\n",
    "model = Sequential()\n",
    "model.add(LSTM(256, activation='selu',\n",
    "                return_sequences=True,\n",
    "                input_shape=(train_x.shape[1], train_x.shape[2])))\n",
    "model.add(LSTM(256, activation='selu', return_sequences=False))\n",
    "model.add(Dense(256, activation='selu'))\n",
    "model.add(Dense(128, activation='selu'))\n",
    "model.add(Dense(1, activation='linear'))\n",
    "model.summary()\n",
    "\n",
    "model.compile(optimizer=opt, loss='huber', metrics=['mse', 'mae', 'mape', tf.keras.metrics.RootMeanSquaredError(name='rmse')])\n",
    "\n",
    "es = EarlyStopping(monitor='val_loss', patience=50)\n",
    "mc = ModelCheckpoint(data_path + 'results/trained_model/%s_best.h5' % experiment_name, \n",
    "                             save_best_only=True, \n",
    "                             monitor='val_loss')"
   ]
  },
  {
   "cell_type": "code",
   "execution_count": null,
   "metadata": {
    "colab": {
     "base_uri": "https://localhost:8080/"
    },
    "id": "AIEcv6Ey2Utu",
    "outputId": "333e9b9e-92a6-478f-9c8c-6021fa00c383"
   },
   "outputs": [],
   "source": [
    "history = model.fit(train_x, train_y, \n",
    "                                epochs=1000, \n",
    "                                batch_size=32, \n",
    "                                verbose=2,\n",
    "                                validation_split=0.2,\n",
    "                                callbacks = [es, mc]\n",
    "                               )"
   ]
  },
  {
   "cell_type": "code",
   "execution_count": null,
   "metadata": {
    "id": "oNHlqcvP2Utx"
   },
   "outputs": [],
   "source": [
    "model.save(data_path + 'results/trained_model/%s.h5' % experiment_name)\n",
    "\n",
    "hist_df = pd.DataFrame(history.history)\n",
    "hist_csv_file = data_path + 'results/trained_model/%s_history.csv' % experiment_name\n",
    "with open(hist_csv_file, mode='w') as f:\n",
    "    hist_df.to_csv(f)"
   ]
  },
  {
   "cell_type": "markdown",
   "metadata": {
    "id": "LH5RANQIEQVx"
   },
   "source": [
    "### Testing"
   ]
  },
  {
   "cell_type": "code",
   "execution_count": null,
   "metadata": {
    "colab": {
     "base_uri": "https://localhost:8080/"
    },
    "id": "ggNKW-VqENFN",
    "outputId": "6d309433-378d-4e29-8858-ec47b1b3219e"
   },
   "outputs": [],
   "source": [
    "results = model.evaluate(test_x, test_y)\n",
    "print(results)"
   ]
  },
  {
   "cell_type": "markdown",
   "metadata": {
    "id": "uiqyD8Bn2Utz"
   },
   "source": [
    "# Data Visualization"
   ]
  },
  {
   "cell_type": "code",
   "execution_count": null,
   "metadata": {
    "colab": {
     "base_uri": "https://localhost:8080/",
     "height": 617
    },
    "id": "jH9RrBRN2Utz",
    "outputId": "eafa3684-4a96-4ff2-9586-8e8f2ef095c9"
   },
   "outputs": [],
   "source": [
    "# fig = go.Figure()\n",
    "# fig.add_trace(go.Scatter(y=history.history['loss'],\n",
    "#                     mode='lines', name='train'))\n",
    "# fig.add_trace(go.Scatter(y=history.history['val_loss'],\n",
    "#                     mode='lines', name='validation'))\n",
    "# fig.update_layout(title='Loss trend',\n",
    "#                   xaxis_title='epoch',\n",
    "#                   yaxis_title='loss')\n",
    "# fig.show()"
   ]
  },
  {
   "cell_type": "code",
   "execution_count": null,
   "metadata": {
    "id": "gtLOteXd-d6n"
   },
   "outputs": [],
   "source": [
    "# train_predictions = model.predict(train_x)"
   ]
  },
  {
   "cell_type": "code",
   "execution_count": null,
   "metadata": {
    "colab": {
     "base_uri": "https://localhost:8080/",
     "height": 617
    },
    "id": "ZsYMPQ0i2Ut1",
    "outputId": "818189eb-497b-4679-9868-5f8d3645f493"
   },
   "outputs": [],
   "source": [
    "# cycle_num = 0\n",
    "# steps_num = 8000\n",
    "# step_index = np.arange(cycle_num*steps_num, (cycle_num+1)*steps_num)\n",
    "\n",
    "# fig = go.Figure()\n",
    "# fig.add_trace(go.Scatter(x=step_index, y=train_predictions.flatten()[cycle_num*steps_num:(cycle_num+1)*steps_num],\n",
    "#                     mode='lines', name='SoC predicted'))\n",
    "# fig.add_trace(go.Scatter(x=step_index, y=train_y.flatten()[cycle_num*steps_num:(cycle_num+1)*steps_num],\n",
    "#                     mode='lines', name='SoC actual'))\n",
    "# fig.update_layout(title='Results on training',\n",
    "#                   xaxis_title='Step',\n",
    "#                   yaxis_title='SoC percentage')\n",
    "# fig.show()"
   ]
  },
  {
   "cell_type": "code",
   "execution_count": null,
   "metadata": {
    "id": "m0olyqr4-8BG"
   },
   "outputs": [],
   "source": [
    "# test_predictions = model.predict(test_x)"
   ]
  },
  {
   "cell_type": "code",
   "execution_count": null,
   "metadata": {
    "colab": {
     "base_uri": "https://localhost:8080/",
     "height": 617
    },
    "id": "9U1MbGnq2Ut4",
    "outputId": "ef475d61-9bd3-4432-bd59-a272452a469b"
   },
   "outputs": [],
   "source": [
    "# cycle_num = 0\n",
    "# steps_num = 8000\n",
    "# step_index = np.arange(cycle_num*steps_num, (cycle_num+1)*steps_num)\n",
    "\n",
    "# fig = go.Figure()\n",
    "# fig.add_trace(go.Scatter(x=step_index, y=test_predictions.flatten()[cycle_num*steps_num:(cycle_num+1)*steps_num],\n",
    "#                     mode='lines', name='SoC predicted'))\n",
    "# fig.add_trace(go.Scatter(x=step_index, y=test_y.flatten()[cycle_num*steps_num:(cycle_num+1)*steps_num],\n",
    "#                     mode='lines', name='SoC actual'))\n",
    "# fig.update_layout(title='Results on testing',\n",
    "#                   xaxis_title='Step',\n",
    "#                   yaxis_title='SoC percentage')\n",
    "# fig.show()"
   ]
  }
 ],
 "metadata": {
  "accelerator": "GPU",
  "colab": {
   "collapsed_sections": [],
   "name": "lstm_soc_percentage_lg.ipynb",
   "provenance": []
  },
  "kernelspec": {
   "display_name": "Python 3",
   "language": "python",
   "name": "python3"
  },
  "language_info": {
   "codemirror_mode": {
    "name": "ipython",
    "version": 3
   },
   "file_extension": ".py",
   "mimetype": "text/x-python",
   "name": "python",
   "nbconvert_exporter": "python",
   "pygments_lexer": "ipython3",
   "version": "3.6.9"
  }
 },
 "nbformat": 4,
 "nbformat_minor": 4
}
