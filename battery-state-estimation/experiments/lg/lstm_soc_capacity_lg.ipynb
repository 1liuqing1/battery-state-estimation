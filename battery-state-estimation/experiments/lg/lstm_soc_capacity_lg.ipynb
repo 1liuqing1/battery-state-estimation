{
  "nbformat": 4,
  "nbformat_minor": 0,
  "metadata": {
    "kernelspec": {
      "name": "python3",
      "display_name": "Python 3.8.6 64-bit",
      "metadata": {
        "interpreter": {
          "hash": "aee8b7b246df8f9039afb4144a1f6fd8d2ca17a180786b69acc140d282b71a49"
        }
      }
    },
    "language_info": {
      "codemirror_mode": {
        "name": "ipython",
        "version": 3
      },
      "file_extension": ".py",
      "mimetype": "text/x-python",
      "name": "python",
      "nbconvert_exporter": "python",
      "pygments_lexer": "ipython3",
      "version": "3.8.6-final"
    },
    "colab": {
      "name": "lstm_soc_capacity_lg_shorter_t2.ipynb",
      "provenance": [],
      "collapsed_sections": []
    },
    "accelerator": "GPU"
  },
  "cells": [
    {
      "cell_type": "markdown",
      "metadata": {
        "id": "jw9FMur02UtZ"
      },
      "source": [
        "# Main notebook for battery state estimation"
      ]
    },
    {
      "cell_type": "code",
      "metadata": {
        "id": "XKxZ90kO2Uta",
        "colab": {
          "base_uri": "https://localhost:8080/"
        },
        "outputId": "466e1ea2-4990-4cca-8ecd-7f180e4395e6"
      },
      "source": [
        "import numpy as np\n",
        "import pandas as pd\n",
        "import scipy.io\n",
        "import math\n",
        "import os\n",
        "import ntpath\n",
        "import sys\n",
        "import logging\n",
        "import time\n",
        "import sys\n",
        "\n",
        "from importlib import reload\n",
        "import plotly.graph_objects as go\n",
        "\n",
        "import tensorflow as tf\n",
        "from tensorflow import keras\n",
        "from tensorflow.keras import layers\n",
        "\n",
        "from keras.models import Sequential\n",
        "from keras.layers.core import Dense, Dropout, Activation\n",
        "from keras.optimizers import SGD, Adam\n",
        "from keras.utils import np_utils\n",
        "from keras.layers import LSTM, Embedding, RepeatVector, TimeDistributed, Masking\n",
        "from keras.callbacks import EarlyStopping, ModelCheckpoint, LambdaCallback\n",
        "\n",
        "\n",
        "IS_COLAB = True\n",
        "\n",
        "if IS_COLAB:\n",
        "    from google.colab import drive\n",
        "    drive.mount('/content/drive')\n",
        "    data_path = \"/content/drive/My Drive/battery-state-estimation/battery-state-estimation/\"\n",
        "else:\n",
        "    data_path = \"../\"\n",
        "\n",
        "sys.path.append(data_path)\n",
        "from data_processing.lg_dataset import LgData"
      ],
      "execution_count": null,
      "outputs": []
    },
    {
      "cell_type": "markdown",
      "metadata": {
        "id": "MfVCRISs2Utc"
      },
      "source": [
        "### Config logging"
      ]
    },
    {
      "cell_type": "code",
      "metadata": {
        "id": "K2IvySBk2Utd"
      },
      "source": [
        "reload(logging)\n",
        "logging.basicConfig(format='%(asctime)s [%(levelname)s]: %(message)s', level=logging.DEBUG, datefmt='%Y/%m/%d %H:%M:%S')"
      ],
      "execution_count": null,
      "outputs": []
    },
    {
      "cell_type": "markdown",
      "metadata": {
        "id": "KsbkwTX22Utf"
      },
      "source": [
        "# Load Data"
      ]
    },
    {
      "cell_type": "code",
      "metadata": {
        "id": "k-yTrXQ12Utm",
        "colab": {
          "base_uri": "https://localhost:8080/"
        },
        "outputId": "8c900e69-9b3d-4294-fab7-36213412cdbb"
      },
      "source": [
        "train_names = [\n",
        "    '25degC/551_LA92', \n",
        "    '25degC/551_Mixed1', \n",
        "    '25degC/551_Mixed2', \n",
        "    '25degC/551_UDDS', \n",
        "    '25degC/551_US06', \n",
        "    '25degC/552_Mixed3',\n",
        "\n",
        "    '25degC/552_Mixed7', \n",
        "    '25degC/552_Mixed8', \n",
        "    ]\n",
        "test_names = [\n",
        "    '25degC/552_Mixed4', \n",
        "    '25degC/552_Mixed5', \n",
        "    '25degC/552_Mixed6', \n",
        "    ]\n",
        "\n",
        "steps = 300\n",
        "\n",
        "lg_data = LgData(data_path)\n",
        "cycles = lg_data.get_discharge_whole_cycle(train_names, test_names, output_capacity=True)\n",
        "train_x, train_y, test_x, test_y = lg_data.get_discharge_multiple_step(cycles, steps)\n",
        "\n",
        "train_y = lg_data.keep_only_y_end(train_y, steps)\n",
        "test_y = lg_data.keep_only_y_end(test_y, steps)"
      ],
      "execution_count": null,
      "outputs": []
    },
    {
      "cell_type": "markdown",
      "metadata": {
        "id": "7iYU-n0K2Utq"
      },
      "source": [
        "# Model training"
      ]
    },
    {
      "cell_type": "code",
      "metadata": {
        "id": "LSx96n4w2Uts",
        "colab": {
          "base_uri": "https://localhost:8080/"
        },
        "outputId": "6a4427e8-b03b-4e75-a52e-d77b11da8941"
      },
      "source": [
        "EXPERIMENT = \"lstm_soc_lg\"\n",
        "\n",
        "experiment_name = time.strftime(\"%Y-%m-%d-%H-%M-%S\") + '_' + EXPERIMENT\n",
        "print(experiment_name)\n",
        "\n",
        "# Model definition\n",
        "\n",
        "opt = tf.keras.optimizers.Adam(lr=0.00001)\n",
        "\n",
        "model = Sequential()\n",
        "model.add(LSTM(256, activation='selu',\n",
        "                return_sequences=True,\n",
        "                input_shape=(train_x.shape[1], train_x.shape[2])))\n",
        "model.add(LSTM(256, activation='selu', return_sequences=False))\n",
        "model.add(Dense(256, activation='selu'))\n",
        "model.add(Dense(128, activation='selu'))\n",
        "model.add(Dense(1, activation='linear'))\n",
        "model.summary()\n",
        "\n",
        "model.compile(optimizer=opt, loss='huber', metrics=['mse', 'mae', 'mape', tf.keras.metrics.RootMeanSquaredError(name='rmse')])\n",
        "\n",
        "es = EarlyStopping(monitor='val_loss', patience=50)\n",
        "mc = ModelCheckpoint(data_path + 'results/trained_model/%s_best.h5' % experiment_name, \n",
        "                             save_best_only=True, \n",
        "                             monitor='val_loss')"
      ],
      "execution_count": null,
      "outputs": []
    },
    {
      "cell_type": "code",
      "metadata": {
        "id": "AIEcv6Ey2Utu",
        "colab": {
          "base_uri": "https://localhost:8080/"
        },
        "outputId": "eb5a47e0-2afa-4c2c-bd42-d9b616521633"
      },
      "source": [
        "history = model.fit(train_x, train_y, \n",
        "                                epochs=100, \n",
        "                                batch_size=32, \n",
        "                                verbose=1,\n",
        "                                validation_split=0.2,\n",
        "                                callbacks = [es, mc]\n",
        "                               )"
      ],
      "execution_count": null,
      "outputs": []
    },
    {
      "cell_type": "code",
      "metadata": {
        "id": "oNHlqcvP2Utx"
      },
      "source": [
        "model.save(data_path + 'results/trained_model/%s.h5' % experiment_name)\n",
        "\n",
        "hist_df = pd.DataFrame(history.history)\n",
        "hist_csv_file = data_path + 'results/trained_model/%s_history.csv' % experiment_name\n",
        "with open(hist_csv_file, mode='w') as f:\n",
        "    hist_df.to_csv(f)"
      ],
      "execution_count": null,
      "outputs": []
    },
    {
      "cell_type": "markdown",
      "metadata": {
        "id": "LH5RANQIEQVx"
      },
      "source": [
        "### Testing"
      ]
    },
    {
      "cell_type": "code",
      "metadata": {
        "colab": {
          "base_uri": "https://localhost:8080/"
        },
        "id": "ggNKW-VqENFN",
        "outputId": "d2867e05-8a02-4a43-bd46-f727cd89890e"
      },
      "source": [
        "results = model.evaluate(test_x, test_y)\n",
        "print(results)"
      ],
      "execution_count": null,
      "outputs": []
    },
    {
      "cell_type": "markdown",
      "metadata": {
        "id": "uiqyD8Bn2Utz"
      },
      "source": [
        "# Data Visualization"
      ]
    },
    {
      "cell_type": "code",
      "metadata": {
        "id": "jH9RrBRN2Utz",
        "colab": {
          "base_uri": "https://localhost:8080/",
          "height": 637
        },
        "outputId": "4b5ed7b3-3ad2-47f8-9a47-2db35bae2c53"
      },
      "source": [
        "fig = go.Figure()\n",
        "fig.add_trace(go.Scatter(y=history.history['loss'],\n",
        "                    mode='lines', name='train'))\n",
        "fig.add_trace(go.Scatter(y=history.history['val_loss'],\n",
        "                    mode='lines', name='validation'))\n",
        "fig.update_layout(title='Loss trend',\n",
        "                  xaxis_title='epoch',\n",
        "                  yaxis_title='loss',\n",
        "                  width=1400,\n",
        "                  height=600)\n",
        "fig.show()"
      ],
      "execution_count": null,
      "outputs": []
    },
    {
      "cell_type": "code",
      "metadata": {
        "id": "gtLOteXd-d6n"
      },
      "source": [
        "train_predictions = model.predict(train_x)"
      ],
      "execution_count": null,
      "outputs": []
    },
    {
      "cell_type": "code",
      "metadata": {
        "id": "ZsYMPQ0i2Ut1",
        "colab": {
          "base_uri": "https://localhost:8080/",
          "height": 637
        },
        "outputId": "f6780561-f1fd-4a63-b085-4185664160e8"
      },
      "source": [
        "cycle_num = 0\n",
        "steps_num = 8000\n",
        "step_index = np.arange(cycle_num*steps_num, (cycle_num+1)*steps_num)\n",
        "\n",
        "fig = go.Figure()\n",
        "fig.add_trace(go.Scatter(x=step_index, y=train_predictions.flatten()[cycle_num*steps_num:(cycle_num+1)*steps_num],\n",
        "                    mode='lines', name='SoC predicted'))\n",
        "fig.add_trace(go.Scatter(x=step_index, y=train_y.flatten()[cycle_num*steps_num:(cycle_num+1)*steps_num],\n",
        "                    mode='lines', name='SoC actual'))\n",
        "fig.update_layout(title='Results on training',\n",
        "                  xaxis_title='Step',\n",
        "                  yaxis_title='SoC capacity',\n",
        "                  width=1400,\n",
        "                  height=600)\n",
        "fig.show()"
      ],
      "execution_count": null,
      "outputs": []
    },
    {
      "cell_type": "code",
      "metadata": {
        "id": "m0olyqr4-8BG"
      },
      "source": [
        "test_predictions = model.predict(test_x)"
      ],
      "execution_count": null,
      "outputs": []
    },
    {
      "cell_type": "code",
      "metadata": {
        "id": "9U1MbGnq2Ut4",
        "colab": {
          "base_uri": "https://localhost:8080/",
          "height": 637
        },
        "outputId": "8dbd73f9-0893-42fb-b1d6-b47bf7f8c028"
      },
      "source": [
        "cycle_num = 0\n",
        "steps_num = 8000\n",
        "step_index = np.arange(cycle_num*steps_num, (cycle_num+1)*steps_num)\n",
        "\n",
        "fig = go.Figure()\n",
        "fig.add_trace(go.Scatter(x=step_index, y=test_predictions.flatten()[cycle_num*steps_num:(cycle_num+1)*steps_num],\n",
        "                    mode='lines', name='SoC predicted'))\n",
        "fig.add_trace(go.Scatter(x=step_index, y=test_y.flatten()[cycle_num*steps_num:(cycle_num+1)*steps_num],\n",
        "                    mode='lines', name='SoC actual'))\n",
        "fig.update_layout(title='Results on testing',\n",
        "                  xaxis_title='Step',\n",
        "                  yaxis_title='SoC capacity',\n",
        "                  width=1400,\n",
        "                  height=600)\n",
        "fig.show()"
      ],
      "execution_count": null,
      "outputs": []
    }
  ]
}